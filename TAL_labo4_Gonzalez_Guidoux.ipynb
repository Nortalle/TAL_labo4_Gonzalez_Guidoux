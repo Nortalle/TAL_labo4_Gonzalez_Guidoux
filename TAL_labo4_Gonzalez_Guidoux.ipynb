{
 "cells": [
  {
   "cell_type": "markdown",
   "metadata": {},
   "source": [
    "# Cours TAL – Labo 4\n",
    "Nathan Gonzalez Montes et Vincent Guidoux\n",
    "\n",
    "## Exercice 1 - exécuter la NER dans NLTK\n",
    "\n",
    "### En utilisant nltk.ne_chunk (voir livre NLTK p. 283 - 4),extraire les entités nommées les plus fréquentes  d’un texte de votre choix"
   ]
  },
  {
   "cell_type": "code",
   "execution_count": 1,
   "metadata": {},
   "outputs": [
    {
     "name": "stdout",
     "output_type": "stream",
     "text": [
      "Requirement already satisfied: numpy in c:\\users\\nortalle\\appdata\\local\\programs\\python\\python37-32\\lib\\site-packages (1.16.2)\n"
     ]
    }
   ],
   "source": [
    "import sys\n",
    "!{sys.executable} -m pip install numpy"
   ]
  },
  {
   "cell_type": "code",
   "execution_count": 2,
   "metadata": {},
   "outputs": [
    {
     "name": "stderr",
     "output_type": "stream",
     "text": [
      "[nltk_data] Downloading package punkt to\n",
      "[nltk_data]     C:\\Users\\Nortalle\\AppData\\Roaming\\nltk_data...\n",
      "[nltk_data]   Package punkt is already up-to-date!\n",
      "[nltk_data] Downloading package averaged_perceptron_tagger to\n",
      "[nltk_data]     C:\\Users\\Nortalle\\AppData\\Roaming\\nltk_data...\n",
      "[nltk_data]   Package averaged_perceptron_tagger is already up-to-\n",
      "[nltk_data]       date!\n",
      "[nltk_data] Downloading package words to\n",
      "[nltk_data]     C:\\Users\\Nortalle\\AppData\\Roaming\\nltk_data...\n",
      "[nltk_data]   Package words is already up-to-date!\n"
     ]
    },
    {
     "data": {
      "text/plain": [
       "True"
      ]
     },
     "execution_count": 2,
     "metadata": {},
     "output_type": "execute_result"
    }
   ],
   "source": [
    "import nltk\n",
    "import os, codecs\n",
    "from nltk.tokenize import sent_tokenize\n",
    "from nltk.tag import pos_tag\n",
    "from nltk import ne_chunk\n",
    "from nltk import FreqDist\n",
    "FreqDist\n",
    "from urllib import request\n",
    "ne_chunk\n",
    "nltk.download('punkt')\n",
    "nltk.download('averaged_perceptron_tagger')\n",
    "nltk.download('words')"
   ]
  },
  {
   "cell_type": "code",
   "execution_count": 3,
   "metadata": {},
   "outputs": [],
   "source": [
    "url1 = \"http://www.gutenberg.org/files/18488/18488.txt\"\n",
    "\n",
    "response = request.urlopen(url1)\n",
    "raw = response.read().decode('utf8')\n",
    "raw = raw[4340:489067]"
   ]
  },
  {
   "cell_type": "code",
   "execution_count": 4,
   "metadata": {},
   "outputs": [
    {
     "data": {
      "text/plain": [
       "6701"
      ]
     },
     "execution_count": 4,
     "metadata": {},
     "output_type": "execute_result"
    }
   ],
   "source": [
    "sentences = nltk.sent_tokenize(raw)\n",
    "\n",
    "sentences = [nltk.word_tokenize(sent) for sent in sentences]\n",
    "\n",
    "len(sentences)"
   ]
  },
  {
   "cell_type": "code",
   "execution_count": null,
   "metadata": {},
   "outputs": [
    {
     "data": {
      "text/plain": [
       "6701"
      ]
     },
     "execution_count": 5,
     "metadata": {},
     "output_type": "execute_result"
    }
   ],
   "source": [
    "sentences = [nltk.pos_tag(sent) for sent in sentences]\n",
    "    \n",
    "len(sentences)"
   ]
  },
  {
   "cell_type": "code",
   "execution_count": null,
   "metadata": {},
   "outputs": [],
   "source": [
    "import numpy\n",
    "from nltk import FreqDist\n",
    "\n",
    "trees = []\n",
    "\n",
    "for sentence in sentences:\n",
    "    for chunk in ne_chunk(sentence):\n",
    "        if hasattr(chunk, 'label'):\n",
    "            trees.append((chunk.label(), ' '.join(c[0] for c in chunk)))"
   ]
  },
  {
   "cell_type": "code",
   "execution_count": null,
   "metadata": {},
   "outputs": [
    {
     "data": {
      "text/plain": [
       "[(('PERSON', 'Priscilla'), 227),\n",
       " (('PERSON', 'Farwell'), 194),\n",
       " (('GPE', 'Priscilla'), 193),\n",
       " (('PERSON', 'Ledyard'), 106),\n",
       " (('PERSON', 'Master Farwell'), 64),\n",
       " (('ORGANIZATION', 'Boswell'), 61),\n",
       " (('ORGANIZATION', 'Travers'), 59),\n",
       " (('PERSON', 'Nathaniel'), 55),\n",
       " (('GPE', 'Kenmore'), 55),\n",
       " (('PERSON', 'Margaret'), 52)]"
      ]
     },
     "execution_count": 7,
     "metadata": {},
     "output_type": "execute_result"
    }
   ],
   "source": [
    "FreqDist(trees).most_common(10)"
   ]
  },
  {
   "cell_type": "markdown",
   "metadata": {},
   "source": [
    "### En vous inspirant du POS de Stanford, utiliser leur NER (https://nlp.stanford.edu/software/CRF-NER.html) et la classe StanfordNERTagger de NLTK, pour extraire les entités nommées du même texte\n"
   ]
  },
  {
   "cell_type": "markdown",
   "metadata": {},
   "source": [
    "#### Création du fichier pour qu'il soit utilisé par POS de STanford"
   ]
  },
  {
   "cell_type": "code",
   "execution_count": null,
   "metadata": {},
   "outputs": [],
   "source": [
    "filename = \"gutenberg_18488.txt\"\n",
    "\n",
    "tokens = nltk.word_tokenize(raw)\n",
    "\n",
    "if os.path.exists(filename): \n",
    "    os.remove(filename)\n",
    "    \n",
    "fd = codecs.open(filename, 'a', 'utf8')\n",
    "\n",
    "try:\n",
    "    for i in tokens:\n",
    "        fd.write(i)\n",
    "        fd.write(\" \")\n",
    "finally:\n",
    "    fd.close()"
   ]
  },
  {
   "cell_type": "code",
   "execution_count": null,
   "metadata": {},
   "outputs": [],
   "source": [
    "from nltk.tag import StanfordNERTagger\n",
    "st = StanfordNERTagger('stanford/classifiers/english.all.3class.distsim.crf.ser.gz', \n",
    "                       'stanford/stanford-ner.jar', \n",
    "                       encoding='utf-8')\n",
    "sentences = nltk.sent_tokenize(raw)\n",
    "\n",
    "sentences = [nltk.word_tokenize(sent) for sent in sentences]\n",
    "\n",
    "\n"
   ]
  },
  {
   "cell_type": "code",
   "execution_count": null,
   "metadata": {},
   "outputs": [
    {
     "name": "stdout",
     "output_type": "stream",
     "text": [
      "[('CHAPTER', 'O'), ('I', 'O'), ('Priscilla', 'PERSON'), ('Glenn', 'PERSON'), ('stood', 'O'), ('on', 'O'), ('the', 'O'), ('little', 'O'), ('slope', 'O'), ('leading', 'O'), ('down', 'O'), ('from', 'O'), ('the', 'O'), ('farmhouse', 'O'), ('to', 'O'), ('the', 'O'), ('spring', 'O'), ('at', 'O'), ('the', 'O'), ('bottom', 'O'), ('of', 'O'), ('the', 'O'), ('garden', 'O'), (',', 'O'), ('and', 'O'), ('lifted', 'O'), ('her', 'O'), ('head', 'O'), ('as', 'O'), ('a', 'O'), ('young', 'O'), ('deer', 'O'), ('does', 'O'), ('when', 'O'), ('it', 'O'), ('senses', 'O'), ('something', 'O'), ('new', 'O'), ('or', 'O'), ('dangerous', 'O'), ('.', 'O')]\n",
      "[('Suddenly', 'O'), (',', 'O'), ('and', 'O'), ('entirely', 'O'), ('subconsciously', 'O'), (',', 'O'), ('she', 'O'), ('felt', 'O'), ('her', 'O'), ('kinship', 'O'), ('with', 'O'), ('life', 'O'), (',', 'O'), ('her', 'O'), ('relation', 'O'), ('to', 'O'), ('the', 'O'), ('lovely', 'O'), ('May', 'O'), ('day', 'O'), ('which', 'O'), ('was', 'O'), ('more', 'O'), ('like', 'O'), ('June', 'O'), ('than', 'O'), ('May', 'O'), ('--', 'O'), ('and', 'O'), ('a', 'O'), ('rare', 'O'), ('thing', 'O'), ('for', 'O'), ('Kenmore', 'ORGANIZATION'), ('--', 'O'), ('whose', 'O'), ('seasons', 'O'), ('lapsed', 'O'), ('into', 'O'), ('each', 'O'), ('other', 'O'), ('as', 'O'), ('calmly', 'O'), ('and', 'O'), ('sluggishly', 'O'), ('as', 'O'), ('did', 'O'), ('all', 'O'), ('the', 'O'), ('other', 'O'), ('happenings', 'O'), ('in', 'O'), ('that', 'O'), ('spot', 'O'), ('known', 'O'), ('to', 'O'), ('the', 'O'), ('Canadian', 'O'), ('Indians', 'O'), ('as', 'O'), ('The', 'O'), ('Place', 'O'), ('Beyond', 'O'), ('the', 'O'), ('Wind', 'O'), ('--', 'O'), ('the', 'O'), ('In-Place', 'O'), ('.', 'O')]\n",
      "[('Across', 'ORGANIZATION'), ('Priscilla', 'ORGANIZATION'), (\"'s\", 'O'), ('straight', 'O'), (',', 'O'), ('young', 'O'), ('shoulders', 'O'), ('lay', 'O'), ('a', 'O'), ('yoke', 'O'), ('from', 'O'), ('both', 'O'), ('ends', 'O'), ('of', 'O'), ('which', 'O'), ('dangled', 'O'), ('empty', 'O'), ('tin', 'O'), ('pails', 'O'), (',', 'O'), ('destined', 'O'), (',', 'O'), ('sooner', 'O'), ('or', 'O'), ('later', 'O'), (',', 'O'), ('to', 'O'), ('be', 'O'), ('filled', 'O'), ('with', 'O'), ('that', 'O'), ('peculiarly', 'O'), ('fine', 'O'), ('water', 'O'), ('of', 'O'), ('which', 'O'), ('Nathaniel', 'PERSON'), ('Glenn', 'PERSON'), ('was', 'O'), ('so', 'O'), ('proud', 'O'), ('.', 'O')]\n",
      "[('Nathaniel', 'PERSON'), ('Glenn', 'PERSON'), ('never', 'O'), ('loved', 'O'), ('things', 'O'), ('in', 'O'), ('a', 'O'), ('human', 'O'), (',', 'O'), ('tender', 'O'), ('fashion', 'O'), (',', 'O'), ('but', 'O'), ('he', 'O'), ('was', 'O'), ('proud', 'O'), ('of', 'O'), ('many', 'O'), ('things', 'O'), ('--', 'O'), ('proud', 'O'), ('that', 'O'), ('he', 'O'), (',', 'O'), ('and', 'O'), ('his', 'O'), ('before', 'O'), ('him', 'O'), (',', 'O'), ('had', 'O'), ('braved', 'O'), ('the', 'O'), ('hardships', 'O'), ('of', 'O'), ('farming', 'O'), ('among', 'O'), ('the', 'O'), ('red', 'O'), (',', 'O'), ('rocky', 'O'), ('hills', 'O'), ('of', 'O'), ('Kenmore', 'LOCATION'), ('instead', 'O'), ('of', 'O'), ('wrenching', 'O'), ('a', 'O'), ('livelihood', 'O'), ('from', 'O'), ('the', 'O'), ('water', 'O'), ('.', 'O')]\n",
      "[('This', 'O'), ('capacity', 'O'), ('for', 'O'), ('tilling', 'O'), ('the', 'O'), ('soil', 'O'), ('instead', 'O'), ('of', 'O'), ('gambling', 'O'), ('in', 'O'), ('fish', 'O'), ('had', 'O'), ('made', 'O'), ('of', 'O'), ('Glenn', 'PERSON'), (',', 'O'), ('and', 'O'), ('a', 'O'), ('few', 'O'), ('other', 'O'), ('men', 'O'), (',', 'O'), ('the', 'O'), ('real', 'O'), ('aristocracy', 'O'), ('of', 'O'), ('the', 'O'), ('place', 'O'), ('.', 'O')]\n",
      "[('Nathaniel', 'PERSON'), (\"'s\", 'O'), ('grandfather', 'O'), (',', 'O'), ('with', 'O'), ('his', 'O'), ('wife', 'O'), ('and', 'O'), ('fifteen', 'O'), ('children', 'O'), (',', 'O'), ('had', 'O'), ('been', 'O'), ('the', 'O'), ('first', 'O'), ('white', 'O'), ('settlers', 'O'), ('of', 'O'), ('Kenmore', 'LOCATION'), ('.', 'O')]\n",
      "[('So', 'O'), ('eager', 'O'), ('had', 'O'), ('the', 'O'), ('Indians', 'O'), ('been', 'O'), ('to', 'O'), ('have', 'O'), ('this', 'O'), ('first', 'O'), ('Glenn', 'PERSON'), ('among', 'O'), ('them', 'O'), ('that', 'O'), ('it', 'O'), ('is', 'O'), ('said', 'O'), ('they', 'O'), ('offered', 'O'), ('him', 'O'), ('any', 'O'), ('amount', 'O'), ('of', 'O'), ('land', 'O'), ('he', 'O'), ('chose', 'O'), ('to', 'O'), ('select', 'O'), (',', 'O'), ('and', 'O'), ('Glenn', 'PERSON'), ('had', 'O'), ('taken', 'O'), ('only', 'O'), ('so', 'O'), ('much', 'O'), ('as', 'O'), ('would', 'O'), ('insure', 'O'), ('him', 'O'), ('a', 'O'), ('decent', 'O'), ('farm', 'O'), ('and', 'O'), ('prospects', 'O'), ('.', 'O')]\n",
      "[('This', 'O'), ('act', 'O'), ('of', 'O'), ('restraint', 'O'), ('had', 'O'), ('further', 'O'), ('endeared', 'O'), ('him', 'O'), ('to', 'O'), ('the', 'O'), ('natives', 'O'), (',', 'O'), ('and', 'O'), ('no', 'O'), ('regret', 'O'), ('was', 'O'), ('ever', 'O'), ('known', 'O'), ('to', 'O'), ('follow', 'O'), ('the', 'O'), ('advent', 'O'), ('of', 'O'), ('the', 'O'), ('estimable', 'O'), ('gentleman', 'O'), ('.', 'O')]\n",
      "[('The', 'O'), ('present', 'O'), ('Glenn', 'PERSON'), ('never', 'O'), ('boasted', 'O'), (';', 'O'), ('he', 'O'), ('had', 'O'), ('no', 'O'), ('need', 'O'), ('to', 'O'), (';', 'O'), ('the', 'O'), ('plain', 'O'), ('statement', 'O'), ('of', 'O'), ('fact', 'O'), ('was', 'O'), ('enough', 'O'), ('to', 'O'), ('secure', 'O'), ('his', 'O'), ('elevated', 'O'), ('position', 'O'), ('from', 'O'), ('mean', 'O'), ('attack', 'O'), ('.', 'O')]\n",
      "[('Nathaniel', 'PERSON'), ('had', 'O'), ('taught', 'O'), ('himself', 'O'), ('to', 'O'), ('read', 'O'), ('and', 'O'), ('write', 'O'), ('--', 'O'), ('a', 'O'), ('most', 'O'), ('unusual', 'O'), ('thing', 'O'), ('--', 'O'), ('and', 'O'), ('naturally', 'O'), ('he', 'O'), ('was', 'O'), ('proud', 'O'), ('of', 'O'), ('that', 'O'), ('.', 'O')]\n",
      "[('He', 'O'), ('was', 'O'), ('proud', 'O'), ('of', 'O'), ('his', 'O'), ('stern', 'O'), (',', 'O'), ('bleak', 'O'), ('religion', 'O'), ('that', 'O'), ('left', 'O'), ('no', 'O'), ('doubt', 'O'), ('in', 'O'), ('his', 'O'), ('own', 'O'), ('mind', 'O'), ('of', 'O'), ('his', 'O'), ('perfect', 'O'), ('interpretation', 'O'), ('of', 'O'), ('divine', 'O'), ('will', 'O'), ('.', 'O')]\n",
      "[('He', 'O'), ('was', 'O'), ('proud', 'O'), ('of', 'O'), ('his', 'O'), ('handsome', 'O'), ('wife', 'O'), ('--', 'O'), ('twenty', 'O'), ('years', 'O'), ('younger', 'O'), ('than', 'O'), ('himself', 'O'), ('.', 'O')]\n",
      "[('Inwardly', 'O'), ('he', 'O'), ('was', 'O'), ('proud', 'O'), ('of', 'O'), ('that', 'O'), (',', 'O'), ('within', 'O'), ('himself', 'O'), (',', 'O'), ('which', 'O'), ('had', 'O'), ('been', 'O'), ('capable', 'O'), ('of', 'O'), ('securing', 'O'), ('Theodora', 'PERSON'), ('where', 'O'), ('other', 'O'), ('men', 'O'), ('had', 'O'), ('failed', 'O'), ('.', 'O')]\n",
      "[('Theodora', 'PERSON'), ('had', 'O'), ('caused', 'O'), ('him', 'O'), ('great', 'O'), ('disappointment', 'O'), (',', 'O'), ('but', 'O'), ('Nathaniel', 'PERSON'), ('was', 'O'), ('a', 'O'), ('just', 'O'), ('man', 'O'), ('and', 'O'), ('he', 'O'), ('could', 'O'), ('not', 'O'), ('exactly', 'O'), ('see', 'O'), ('that', 'O'), ('his', 'O'), ('disappointment', 'O'), ('was', 'O'), ('due', 'O'), ('to', 'O'), ('any', 'O'), ('deliberate', 'O'), ('or', 'O'), ('malicious', 'O'), ('act', 'O'), ('of', 'O'), ('Theodora', 'PERSON'), (\"'s\", 'O'), (';', 'O'), ('it', 'O'), ('was', 'O'), ('only', 'O'), ('when', 'O'), ('his', 'O'), ('wife', 'O'), ('showed', 'O'), ('weak', 'O'), ('tendencies', 'O'), ('toward', 'O'), ('making', 'O'), ('light', 'O'), ('of', 'O'), ('the', 'O'), ('matter', 'O'), ('that', 'O'), ('he', 'O'), ('hardened', 'O'), ('his', 'O'), ('heart', 'O'), ('.', 'O')]\n",
      "[('In', 'O'), ('the', 'O'), ('face', 'O'), ('of', 'O'), ('his', 'O'), ('great', 'O'), ('desire', 'O'), ('and', 'O'), ('his', 'O'), ('modest', 'O'), ('aspirations', 'O'), ('--', 'O'), ('Theodora', 'PERSON'), ('had', 'O'), ('borne', 'O'), ('for', 'O'), ('him', 'O'), ('(', 'O'), ('that', 'O'), ('was', 'O'), ('the', 'O'), ('only', 'O'), ('way', 'O'), ('he', 'O'), ('looked', 'O'), ('at', 'O'), ('it', 'O'), (')', 'O'), ('five', 'O'), ('children', 'O'), ('--', 'O'), ('all', 'O'), ('girls', 'O'), (',', 'O'), ('when', 'O'), ('she', 'O'), ('very', 'O'), ('well', 'O'), ('knew', 'O'), ('a', 'O'), ('son', 'O'), ('was', 'O'), ('the', 'O'), ('one', 'O'), ('thing', 'O'), (',', 'O'), ('in', 'O'), ('the', 'O'), ('way', 'O'), ('of', 'O'), ('offspring', 'O'), (',', 'O'), ('that', 'O'), ('he', 'O'), ('had', 'O'), ('expected', 'O'), ('or', 'O'), ('wanted', 'O'), ('.', 'O')]\n"
     ]
    },
    {
     "name": "stdout",
     "output_type": "stream",
     "text": [
      "[('The', 'O'), ('first', 'O'), ('child', 'O'), ('was', 'O'), ('as', 'O'), ('dark', 'O'), ('as', 'O'), ('a', 'O'), ('little', 'O'), ('Indian', 'O'), (',', 'O'), ('``', 'O'), ('so', 'O'), ('dark', 'O'), (',', 'O'), (\"''\", 'O'), ('explained', 'O'), ('Nathaniel', 'PERSON'), (',', 'O'), ('``', 'O'), ('that', 'O'), ('she', 'O'), ('would', 'O'), ('have', 'O'), ('been', 'O'), ('welcome', 'O'), ('in', 'O'), ('any', 'O'), ('house', 'O'), ('on', 'O'), ('a', 'O'), ('New', 'O'), (\"Year's\", 'O'), ('Day', 'O'), ('.', 'O'), (\"''\", 'O')]\n",
      "[('She', 'O'), ('lasted', 'O'), ('but', 'O'), ('a', 'O'), ('year', 'O'), (',', 'O'), ('and', 'O'), (',', 'O'), ('while', 'O'), ('she', 'O'), ('was', 'O'), ('a', 'O'), ('regret', 'O'), (',', 'O'), ('she', 'O'), ('had', 'O'), ('been', 'O'), ('tolerated', 'O'), ('as', 'O'), ('an', 'O'), ('attempt', 'O'), (',', 'O'), ('at', 'O'), ('least', 'O'), (',', 'O'), ('in', 'O'), ('the', 'O'), ('right', 'O'), ('direction', 'O'), ('.', 'O')]\n",
      "[('Then', 'O'), ('came', 'O'), ('the', 'O'), ('second', 'O'), ('girl', 'O'), (',', 'O'), ('a', 'O'), ('soft', 'O'), (',', 'O'), ('pale', 'O'), ('creature', 'O'), ('with', 'O'), ('ways', 'O'), ('that', 'O'), ('endeared', 'O'), ('her', 'O'), ('to', 'O'), ('the', 'O'), ('mother-heart', 'O'), ('so', 'O'), ('tragically', 'O'), ('that', 'O'), ('when', 'O'), ('she', 'O'), ('died', 'O'), ('at', 'O'), ('the', 'O'), ('age', 'O'), ('of', 'O'), ('two', 'O'), ('Theodora', 'PERSON'), ('rebelliously', 'O'), ('proclaimed', 'O'), ('that', 'O'), ('she', 'O'), ('wanted', 'O'), ('no', 'O'), ('other', 'O'), ('children', 'O'), ('!', 'O')]\n",
      "[('This', 'O'), ('blasphemy', 'O'), ('shocked', 'O'), ('Nathaniel', 'PERSON'), ('beyond', 'O'), ('measure', 'O'), (',', 'O'), ('and', 'O'), ('when', 'O'), (',', 'O'), ('a', 'O'), ('year', 'O'), ('later', 'O'), (',', 'O'), ('twin', 'O'), ('girls', 'O'), ('were', 'O'), ('born', 'O'), ('on', 'O'), ('Lonely', 'O'), ('Farm', 'O'), (',', 'O'), ('he', 'O'), ('pointed', 'O'), ('out', 'O'), ('to', 'O'), ('his', 'O'), ('wife', 'O'), ('that', 'O'), ('no', 'O'), ('woman', 'O'), ('could', 'O'), ('fly', 'O'), ('in', 'O'), ('the', 'O'), ('face', 'O'), ('of', 'O'), ('the', 'O'), ('Almighty', 'O'), ('with', 'O'), ('impunity', 'O'), ('and', 'O'), ('she', 'O'), ('must', 'O'), ('now', 'O'), ('see', 'O'), (',', 'O'), ('in', 'O'), ('this', 'O'), ('double', 'O'), ('disgrace', 'O'), ('of', 'O'), ('sex', 'O'), (',', 'O'), ('her', 'O'), ('punishment', 'O'), ('.', 'O')]\n",
      "[('Theodora', 'PERSON'), ('was', 'O'), ('stricken', 'O'), (';', 'O'), ('but', 'O'), ('the', 'O'), ('sad', 'O'), ('little', 'O'), ('sisters', 'O'), ('early', 'O'), ('escaped', 'O'), ('the', 'O'), ('bondage', 'O'), ('of', 'O'), ('life', 'O'), (',', 'O'), ('and', 'O'), ('the', 'O'), ('Glenns', 'ORGANIZATION'), ('once', 'O'), ('again', 'O'), (',', 'O'), ('childless', 'O'), ('and', 'O'), ('alone', 'O'), (',', 'O'), ('viewed', 'O'), ('the', 'O'), ('future', 'O'), ('superstitiously', 'O'), ('and', 'O'), ('with', 'O'), ('awe', 'O'), ('.', 'O')]\n",
      "[('Even', 'O'), ('Nathaniel', 'PERSON'), (',', 'O'), ('hope', 'O'), ('gone', 'O'), ('as', 'O'), ('to', 'O'), ('a', 'O'), ('son', 'O'), (',', 'O'), ('resignedly', 'O'), ('accepted', 'O'), ('the', 'O'), ('fate', 'O'), ('that', 'O'), ('seemed', 'O'), ('to', 'O'), ('pursue', 'O'), ('him', 'O'), ('.', 'O')]\n",
      "[('Then', 'O'), (',', 'O'), ('after', 'O'), ('five', 'O'), ('years', 'O'), (',', 'O'), ('Priscilla', 'PERSON'), ('was', 'O'), ('born', 'O'), (',', 'O'), ('the', 'O'), ('lustiest', 'O'), ('and', 'O'), ('most', 'O'), ('demanding', 'O'), ('of', 'O'), ('all', 'O'), ('the', 'O'), ('children', 'O'), ('.', 'O')]\n",
      "[('``', 'O'), ('She', 'O'), ('seems', 'O'), (',', 'O'), (\"''\", 'O'), ('said', 'O'), ('Long', 'PERSON'), ('Jean', 'PERSON'), (',', 'O'), ('the', 'O'), ('midwife', 'O'), (',', 'O'), ('``', 'O'), ('to', 'O'), ('be', 'O'), ('made', 'O'), ('of', 'O'), ('the', 'O'), ('odds', 'O'), ('and', 'O'), ('ends', 'O'), ('of', 'O'), ('all', 'O'), ('the', 'O'), ('others', 'O'), ('.', 'O')]\n",
      "[('She', 'O'), ('has', 'O'), ('the', 'O'), ('clear', 'O'), (',', 'O'), ('dark', 'O'), ('skin', 'O'), ('of', 'O'), ('the', 'O'), ('first', 'O'), (',', 'O'), ('the', 'O'), ('blue', 'O'), ('eyes', 'O'), ('of', 'O'), ('the', 'O'), ('second', 'O'), (',', 'O'), ('and', 'O'), ('the', 'O'), ('rusty', 'O'), ('coloured', 'O'), ('hair', 'O'), ('and', 'O'), ('queer', 'O'), ('features', 'O'), ('of', 'O'), ('the', 'O'), ('twins', 'O'), ('.', 'O'), (\"''\", 'O')]\n",
      "[('Between', 'O'), ('Long', 'O'), ('Jean', 'PERSON'), ('and', 'O'), ('Mary', 'PERSON'), ('Terhune', 'PERSON'), (',', 'O'), ('midwives', 'O'), (',', 'O'), ('a', 'O'), ('social', 'O'), ('rivalry', 'O'), ('existed', 'O'), ('.', 'O')]\n",
      "[('On', 'O'), ('account', 'O'), ('of', 'O'), ('her', 'O'), ('Indian', 'O'), ('taint', 'O'), ('Long', 'PERSON'), ('Jean', 'PERSON'), ('was', 'O'), ('less', 'O'), ('sought', 'O'), ('in', 'O'), ('aristocratic', 'O'), ('circles', 'O'), (',', 'O'), ('but', 'O'), ('so', 'O'), ('great', 'O'), ('had', 'O'), ('been', 'O'), ('the', 'O'), ('need', 'O'), ('the', 'O'), ('night', 'O'), ('when', 'O'), ('Priscilla', 'PERSON'), ('made', 'O'), ('her', 'O'), ('appearance', 'O'), (',', 'O'), ('that', 'O'), ('both', 'O'), ('women', 'O'), ('had', 'O'), ('been', 'O'), ('summoned', 'O'), (',', 'O'), ('and', 'O'), ('Long', 'PERSON'), ('Jean', 'PERSON'), (',', 'O'), ('arriving', 'O'), ('first', 'O'), (',', 'O'), ('and', 'O'), (',', 'O'), ('her', 'O'), ('superior', 'O'), ('skill', 'O'), ('being', 'O'), ('well', 'O'), ('known', 'O'), (',', 'O'), ('was', 'O'), ('accepted', 'O'), ('.', 'O')]\n",
      "[('When', 'O'), ('she', 'O'), ('announced', 'O'), ('the', 'O'), ('birth', 'O'), ('and', 'O'), ('sex', 'O'), ('of', 'O'), ('the', 'O'), ('small', 'O'), ('stranger', 'O'), (',', 'O'), ('Nathaniel', 'PERSON'), (',', 'O'), ('smoking', 'O'), ('before', 'O'), ('the', 'O'), ('fire', 'O'), ('in', 'O'), ('the', 'O'), ('big', 'O'), (',', 'O'), ('clean', 'O'), (',', 'O'), ('bare', 'O'), (',', 'O'), ('living-room', 'O'), (',', 'O'), ('permitted', 'O'), ('himself', 'O'), ('one', 'O'), ('reckless', 'O'), ('defiance', 'O'), (':', 'O'), (\"''\", 'O'), ('Not', 'O'), ('wanted', 'O'), ('!', 'O'), (\"''\", 'O')]\n",
      "[('Long', 'O'), ('Jean', 'PERSON'), ('made', 'O'), ('the', 'O'), ('most', 'O'), ('of', 'O'), ('this', 'O'), ('.', 'O')]\n",
      "[('``', 'O'), ('And', 'O'), ('his', 'O'), ('pretty', 'O'), ('wife', 'O'), ('at', 'O'), ('the', 'O'), ('point', 'O'), ('of', 'O'), ('death', 'O'), (',', 'O'), (\"''\", 'O'), ('she', 'O'), ('gossiped', 'O'), ('to', 'O'), ('Mrs.', 'O'), ('McAdam', 'PERSON'), ('of', 'O'), ('the', 'O'), ('White', 'ORGANIZATION'), ('Fish', 'ORGANIZATION'), ('Lodge', 'ORGANIZATION'), (';', 'O'), ('``', 'O'), ('and', 'O'), ('there', 'O'), ('is', 'O'), ('this', 'O'), ('to', 'O'), ('say', 'O'), ('about', 'O'), ('the', 'O'), ('child', 'O'), ('being', 'O'), ('a', 'O'), ('girl', 'O'), (':', 'O'), ('the', 'O'), ('lure', 'O'), ('of', 'O'), ('the', 'O'), ('States', 'O'), ('ca', 'O'), (\"n't\", 'O'), ('touch', 'O'), ('her', 'O'), (',', 'O'), ('and', 'O'), ('Nathaniel', 'PERSON'), ('may', 'O'), ('have', 'O'), ('some', 'O'), ('one', 'O'), ('to', 'O'), ('turn', 'O'), ('to', 'O'), ('for', 'O'), ('care', 'O'), ('and', 'O'), ('what', 'O'), ('not', 'O'), ('when', 'O'), ('infirmity', 'O'), ('overtakes', 'O'), ('him', 'O'), ('.', 'O')]\n",
      "[('Besides', 'O'), (',', 'O'), ('the', 'O'), ('lass', 'O'), ('may', 'O'), ('be', 'O'), ('destined', 'O'), ('for', 'O'), ('the', 'O'), ('doing', 'O'), ('of', 'O'), ('big', 'O'), ('things', 'O'), (';', 'O'), ('those', 'O'), ('witchy', 'O'), ('brats', 'O'), ('often', 'O'), ('are', 'O'), ('.', 'O'), (\"''\", 'O')]\n",
      "[('``', 'O'), ('The', 'O'), ('lure', 'O'), ('do', 'O'), (\"n't\", 'O'), ('get', 'O'), ('all', 'O'), ('the', 'O'), ('boys', 'O'), (',', 'O'), (\"''\", 'O'), ('muttered', 'O'), ('Mary', 'PERSON'), ('McAdam', 'PERSON'), (',', 'O'), ('cautiously', 'O'), ('thinking', 'O'), ('of', 'O'), ('her', 'O'), ('Sandy', 'PERSON'), (',', 'O'), ('aged', 'O'), ('five', 'O'), (',', 'O'), ('and', 'O'), ('Tom', 'PERSON'), (',', 'O'), ('a', 'O'), ('bit', 'O'), ('older', 'O'), ('.', 'O')]\n",
      "[('``', 'O'), ('All', 'O'), ('as', 'O'), ('amounts', 'O'), ('to', 'O'), ('much', 'O'), (',', 'O'), (\"''\", 'O'), ('Long', 'PERSON'), ('Jean', 'PERSON'), ('returned', 'O'), ('.', 'O')]\n"
     ]
    },
    {
     "name": "stdout",
     "output_type": "stream",
     "text": [
      "[('And', 'O'), ('in', 'O'), ('her', 'O'), ('heart', 'O'), ('of', 'O'), ('hearts', 'O'), ('Mary', 'PERSON'), ('McAdam', 'PERSON'), ('knew', 'O'), ('this', 'O'), ('to', 'O'), ('be', 'O'), ('true', 'O'), ('.', 'O')]\n",
      "[('The', 'O'), ('time', 'O'), ('would', 'O'), ('come', 'O'), ('to', 'O'), ('her', 'O'), (',', 'O'), ('as', 'O'), ('it', 'O'), ('had', 'O'), ('to', 'O'), ('all', 'O'), ('Kenmore', 'LOCATION'), ('mothers', 'O'), (',', 'O'), ('when', 'O'), ('she', 'O'), ('would', 'O'), ('have', 'O'), ('to', 'O'), ('acknowledge', 'O'), ('that', 'O'), ('by', 'O'), ('the', 'O'), ('power', 'O'), ('of', 'O'), ('the', 'O'), ('``', 'O'), ('lure', 'O'), (\"''\", 'O'), ('were', 'O'), ('her', 'O'), ('boys', 'O'), ('to', 'O'), ('be', 'O'), ('tested', 'O'), ('.', 'O')]\n",
      "[('But', 'O'), ('Priscilla', 'PERSON'), ('at', 'O'), ('Lonely', 'O'), ('Farm', 'O'), ('showed', 'O'), ('a', 'O'), ('hardened', 'O'), ('disregard', 'O'), ('of', 'O'), ('her', 'O'), ('state', 'O'), ('.', 'O')]\n",
      "[('She', 'O'), ('persisted', 'O'), ('and', 'O'), ('grew', 'O'), ('sturdy', 'O'), ('and', 'O'), ('lovely', 'O'), ('in', 'O'), ('defiance', 'O'), ('of', 'O'), ('tradition', 'O'), ('and', 'O'), ('conditions', 'O'), ('.', 'O')]\n",
      "[('She', 'O'), ('was', 'O'), ('as', 'O'), ('keen-witted', 'O'), ('and', 'O'), ('original', 'O'), ('as', 'O'), ('she', 'O'), ('was', 'O'), ('independent', 'O'), ('and', 'O'), ('charming', 'O'), ('.', 'O')]\n",
      "[('Still', 'O'), ('Theodora', 'PERSON'), ('took', 'O'), ('long', 'O'), ('before', 'O'), ('she', 'O'), ('capitulated', 'O'), (',', 'O'), ('and', 'O'), ('Nathaniel', 'PERSON'), ('never', 'O'), ('succumbed', 'O'), ('.', 'O')]\n",
      "[('Indeed', 'O'), (',', 'O'), ('as', 'O'), ('years', 'O'), ('passed', 'O'), ('he', 'O'), ('grew', 'O'), ('to', 'O'), ('fear', 'O'), ('and', 'O'), ('dislike', 'O'), ('his', 'O'), ('young', 'O'), ('daughter', 'O'), ('.', 'O')]\n",
      "[('The', 'O'), ('little', 'O'), ('creature', 'O'), (',', 'O'), ('in', 'O'), ('some', 'O'), ('subtle', 'O'), ('way', 'O'), (',', 'O'), ('seemed', 'O'), ('to', 'O'), ('have', 'O'), ('``', 'O'), ('found', 'O'), ('him', 'O'), ('out', 'O'), (\"''\", 'O'), (';', 'O'), ('she', 'O'), ('became', 'O'), (',', 'O'), ('though', 'O'), ('he', 'O'), ('would', 'O'), ('not', 'O'), ('admit', 'O'), ('it', 'O'), (',', 'O'), ('a', 'O'), ('materialized', 'O'), ('conscience', 'O'), ('to', 'O'), ('him', 'O'), ('.', 'O')]\n",
      "[('She', 'O'), ('made', 'O'), ('him', 'O'), ('doubt', 'O'), ('himself', 'O'), (';', 'O'), ('she', 'O'), ('laughed', 'O'), ('at', 'O'), ('him', 'O'), (',', 'O'), ('elfishly', 'O'), ('and', 'O'), ('without', 'O'), ('excuse', 'O'), ('or', 'O'), ('explanation', 'O'), ('.', 'O')]\n",
      "[('Once', 'O'), ('they', 'O'), ('two', 'O'), (',', 'O'), ('sitting', 'O'), ('alone', 'O'), ('before', 'O'), ('the', 'O'), ('hearth', 'O'), ('--', 'O'), ('Nathaniel', 'PERSON'), ('in', 'O'), ('his', 'O'), ('great', 'O'), ('chair', 'O'), (',', 'O'), ('Priscilla', 'PERSON'), ('in', 'O'), ('her', 'O'), ('small', 'O'), ('one', 'O'), ('--', 'O'), ('faced', 'O'), ('each', 'O'), ('other', 'O'), ('fearsomely', 'O'), ('for', 'O'), ('a', 'O'), ('time', 'O'), (';', 'O'), ('then', 'O'), ('the', 'O'), ('child', 'O'), ('gave', 'O'), ('the', 'O'), ('gurgling', 'O'), ('laugh', 'O'), ('of', 'O'), ('inner', 'O'), ('understanding', 'O'), ('that', 'O'), ('maddened', 'O'), ('the', 'O'), ('father', 'O'), ('.', 'O')]\n",
      "[('``', 'O'), ('What', 'O'), ('you', 'O'), ('laughing', 'O'), ('at', 'O'), ('?', 'O'), (\"''\", 'O')]\n",
      "[('he', 'O'), ('muttered', 'O'), (',', 'O'), ('taking', 'O'), ('the', 'O'), ('pipe', 'O'), ('from', 'O'), ('his', 'O'), ('mouth', 'O'), ('.', 'O')]\n",
      "[('``', 'O'), ('You', 'O'), ('!', 'O'), (\"''\", 'O')]\n",
      "[('Priscilla', 'PERSON'), ('was', 'O'), ('only', 'O'), ('seven', 'O'), ('then', 'O'), (',', 'O'), ('but', 'O'), ('large', 'O'), ('and', 'O'), ('strong', 'O'), ('.', 'O')]\n",
      "[('``', 'O'), ('Me', 'O'), ('?', 'O')]\n",
      "[('How', 'O'), ('dare', 'O'), ('you', 'O'), ('!', 'O'), (\"''\", 'O')]\n",
      "[('``', 'O'), ('You', 'O'), ('are', 'O'), ('so', 'O'), ('funny', 'O'), ('.', 'O')]\n",
      "[('If', 'O'), ('I', 'O'), ('screw', 'O'), ('my', 'O'), ('eyes', 'O'), ('tight', 'O'), ('I', 'O'), ('see', 'O'), ('two', 'O'), ('of', 'O'), ('you', 'O'), ('.', 'O'), (\"''\", 'O')]\n",
      "[('Then', 'O'), ('Nathaniel', 'PERSON'), ('struck', 'O'), ('her', 'O'), ('.', 'O')]\n",
      "[('Not', 'O'), ('brutally', 'O'), (',', 'O'), ('not', 'O'), ('maliciously', 'O'), (';', 'O'), ('he', 'O'), ('wanted', 'O'), ('desperately', 'O'), ('to', 'O'), ('set', 'O'), ('himself', 'O'), ('right', 'O'), ('by', 'O'), ('--', 'O'), ('old-time', 'O'), ('and', 'O'), ('honoured', 'O'), ('methods', 'O'), ('--', 'O'), ('force', 'O'), ('of', 'O'), ('authority', 'O'), ('!', 'O')]\n"
     ]
    }
   ],
   "source": [
    "for sentence in sentences:\n",
    "    classified_text = st.tag(sentence)\n",
    "    print(classified_text)"
   ]
  },
  {
   "cell_type": "markdown",
   "metadata": {},
   "source": [
    "### Comparez la liste des NE les plus fréquentes et leurs types reconnus"
   ]
  },
  {
   "cell_type": "code",
   "execution_count": null,
   "metadata": {},
   "outputs": [],
   "source": []
  },
  {
   "cell_type": "markdown",
   "metadata": {},
   "source": [
    "## Exercice 2"
   ]
  },
  {
   "cell_type": "markdown",
   "metadata": {},
   "source": [
    "[FreqDist](https://stackoverflow.com/questions/4634787/freqdist-with-nltk)"
   ]
  }
 ],
 "metadata": {
  "kernelspec": {
   "display_name": "Python 3",
   "language": "python",
   "name": "python3"
  },
  "language_info": {
   "codemirror_mode": {
    "name": "ipython",
    "version": 3
   },
   "file_extension": ".py",
   "mimetype": "text/x-python",
   "name": "python",
   "nbconvert_exporter": "python",
   "pygments_lexer": "ipython3",
   "version": "3.7.0"
  }
 },
 "nbformat": 4,
 "nbformat_minor": 2
}
